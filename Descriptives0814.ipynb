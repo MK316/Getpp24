{
  "nbformat": 4,
  "nbformat_minor": 0,
  "metadata": {
    "colab": {
      "private_outputs": true,
      "provenance": [],
      "authorship_tag": "ABX9TyMDGfUl8kW7HuEtixe9pFPd",
      "include_colab_link": true
    },
    "kernelspec": {
      "name": "python3",
      "display_name": "Python 3"
    },
    "language_info": {
      "name": "python"
    }
  },
  "cells": [
    {
      "cell_type": "markdown",
      "metadata": {
        "id": "view-in-github",
        "colab_type": "text"
      },
      "source": [
        "<a href=\"https://colab.research.google.com/github/MK316/Getpp24/blob/main/Descriptives0814.ipynb\" target=\"_parent\"><img src=\"https://colab.research.google.com/assets/colab-badge.svg\" alt=\"Open In Colab\"/></a>"
      ]
    },
    {
      "cell_type": "markdown",
      "source": [
        "# Data-descriptives: written and spoken\n",
        "\n",
        "+ written data file: Now-processed.csv file\n",
        "+ spoken data file: TED1000.csv file\n"
      ],
      "metadata": {
        "id": "8AgJQ2T22Ldp"
      }
    },
    {
      "cell_type": "code",
      "source": [
        "import pandas as pd\n",
        "\n",
        "# Load the datasets\n",
        "ted_data = pd.read_csv('/content/TED1000.csv')\n",
        "now_data = pd.read_csv('/content/NOW2915.csv')\n",
        "\n",
        "# Prepend 'S' to IDs in the TED1000 dataset\n",
        "ted_data['ID'] = 'S' + ted_data['ID'].astype(str)\n",
        "\n",
        "# Prepend 'W' to IDs in the NOW2915 dataset\n",
        "now_data['ID'] = 'W' + now_data['ID'].astype(str)\n",
        "\n",
        "# Combine the datasets\n",
        "combined_data = pd.concat([ted_data, now_data], ignore_index=True)\n",
        "\n",
        "# Save the combined dataset to a new CSV file\n",
        "combined_data.to_csv('datatotal0814.csv', index=False)\n",
        "\n",
        "print(\"Combined dataset saved as datatotal.csv.\")\n"
      ],
      "metadata": {
        "id": "BK9l-tFpWJTK"
      },
      "execution_count": null,
      "outputs": []
    },
    {
      "cell_type": "markdown",
      "source": [
        "## Add a new column 'register' and save it as 'datatotal0814.xlsx'"
      ],
      "metadata": {
        "id": "I8NuSqjzZDGn"
      }
    },
    {
      "cell_type": "code",
      "source": [
        "import pandas as pd\n",
        "\n",
        "# Assuming 'combined_data' is already in your environment from the previous steps\n",
        "# If not, you need to load it first\n",
        "combined_data = pd.read_csv('datatotal0814.csv')\n",
        "\n",
        "# Add 'register' column based on the first letter of 'ID'\n",
        "combined_data['register'] = combined_data['ID'].apply(lambda x: 'Spoken' if x.startswith('S') else 'Written')\n",
        "\n",
        "# Save the updated DataFrame as an Excel file\n",
        "combined_data.to_excel('datatotal0814.xlsx', index=False)\n",
        "\n",
        "# Load the data from the new Excel file to ensure everything is fine\n",
        "data = pd.read_excel('datatotal0814.xlsx')\n",
        "\n",
        "# Get descriptive statistics for 'Nword' and 'Nsent' by 'register'\n",
        "stats_nword = data.groupby('register')['Nword'].describe()\n",
        "stats_nsent = data.groupby('register')['Nsent'].describe()\n",
        "\n",
        "print(\"Descriptive Statistics for 'Nword' by Register:\")\n",
        "print(stats_nword)\n",
        "print(\"\\nDescriptive Statistics for 'Nsent' by Register:\")\n",
        "print(stats_nsent)\n"
      ],
      "metadata": {
        "id": "GZmb61i1ZJ6O"
      },
      "execution_count": null,
      "outputs": []
    },
    {
      "cell_type": "markdown",
      "source": [
        "### Total Nword, Nsent by register"
      ],
      "metadata": {
        "id": "87RUDv3JWJ0G"
      }
    },
    {
      "cell_type": "code",
      "source": [
        "import pandas as pd\n",
        "\n",
        "# Load the data from the Excel file\n",
        "data = pd.read_excel('datatotal0814.xlsx')\n",
        "\n",
        "# Calculate the total 'Nword' and 'Nsent' by 'register'\n",
        "total_nword = data.groupby('register')['Nword'].sum()\n",
        "total_nsent = data.groupby('register')['Nsent'].sum()\n",
        "\n",
        "print(\"Total 'Nword' by Register:\")\n",
        "print(total_nword)\n",
        "print(\"\\nTotal 'Nsent' by Register:\")\n",
        "print(total_nsent)\n"
      ],
      "metadata": {
        "id": "QvvBQH4vZ9gb"
      },
      "execution_count": null,
      "outputs": []
    },
    {
      "cell_type": "markdown",
      "source": [
        "# Balanced data: size matching"
      ],
      "metadata": {
        "id": "o_pvBdq6chta"
      }
    },
    {
      "cell_type": "code",
      "source": [
        "import pandas as pd\n",
        "\n",
        "# Load the data from the Excel file\n",
        "data = pd.read_excel('datatotal0814.xlsx')\n",
        "\n",
        "# Calculate the target word count from the 'Written' data\n",
        "target_nword = data[data['register'] == 'Written']['Nword'].sum()\n",
        "\n",
        "# Filter the 'Spoken' and 'Written' data\n",
        "spoken_data = data[data['register'] == 'Spoken'].copy()\n",
        "written_data = data[data['register'] == 'Written'].copy()\n",
        "\n",
        "# Calculate cumulative sum of 'Nword' for 'Spoken' data\n",
        "spoken_data['cumulative_Nword'] = spoken_data['Nword'].cumsum()\n",
        "\n",
        "# Find the last index where cumulative word count is less than or equal to target word count\n",
        "if spoken_data['cumulative_Nword'].iloc[-1] < target_nword:\n",
        "    # If total 'Spoken' words are still less than 'Written', use all 'Spoken' data\n",
        "    balanced_spoken = spoken_data\n",
        "else:\n",
        "    # Otherwise, find where cumulative word count exceeds target and reduce one entry if needed\n",
        "    cut_index = spoken_data[spoken_data['cumulative_Nword'] <= target_nword].index[-1]\n",
        "    balanced_spoken = spoken_data.loc[spoken_data.index <= cut_index]\n",
        "\n",
        "# Concatenate the balanced 'Spoken' data with all 'Written' data\n",
        "balanced_data = pd.concat([balanced_spoken, written_data], ignore_index=True)\n",
        "\n",
        "# Drop the temporary 'cumulative_Nword' column\n",
        "balanced_data.drop(columns='cumulative_Nword', inplace=True)\n",
        "\n",
        "# Save the balanced dataset to CSV\n",
        "balanced_data.to_csv('balanced.csv', index=False, encoding='utf-8')\n",
        "\n",
        "print(\"Balanced dataset saved as 'balanced.csv'.\")\n"
      ],
      "metadata": {
        "id": "oQs2L1NAckOj"
      },
      "execution_count": null,
      "outputs": []
    },
    {
      "cell_type": "code",
      "source": [
        "import pandas as pd\n",
        "\n",
        "# Load the data from the Excel file\n",
        "data = pd.read_csv('/content/balanced-toanalyze.csv')\n",
        "\n",
        "# Calculate the total 'Nword' and 'Nsent' by 'register'\n",
        "total_nword = data.groupby('register')['Nword'].sum()\n",
        "total_nsent = data.groupby('register')['Nsent'].sum()\n",
        "\n",
        "print(\"Total 'Nword' by Register:\")\n",
        "print(total_nword)\n",
        "print(\"\\nTotal 'Nsent' by Register:\")\n",
        "print(total_nsent)\n"
      ],
      "metadata": {
        "id": "m8oYMkzmcrJo"
      },
      "execution_count": null,
      "outputs": []
    },
    {
      "cell_type": "markdown",
      "source": [
        "## Boxplots of Nword and Nsent by register"
      ],
      "metadata": {
        "id": "KIVj5d2UgJ8x"
      }
    },
    {
      "cell_type": "code",
      "source": [
        "import pandas as pd\n",
        "import matplotlib.pyplot as plt\n",
        "import seaborn as sns\n",
        "\n",
        "# Load the data\n",
        "data = pd.read_csv('/content/balanced-toanalyze.csv')\n",
        "\n",
        "# Set up the matplotlib figure with two plots side by side\n",
        "plt.figure(figsize=(12, 6))  # Wide format\n",
        "\n",
        "# Plot 1: Nword for both Spoken and Written\n",
        "plt.subplot(1, 2, 1)\n",
        "sns.boxplot(x='register', y='Nword', data=data)\n",
        "plt.title('Word Count Distribution by Register')\n",
        "\n",
        "# Plot 2: Nsent for both Spoken and Written\n",
        "plt.subplot(1, 2, 2)\n",
        "sns.boxplot(x='register', y='Nsent', data=data)\n",
        "plt.title('Sentence Count Distribution by Register')\n",
        "\n",
        "# Display the plots\n",
        "plt.tight_layout()\n",
        "plt.show()\n"
      ],
      "metadata": {
        "id": "a2oqVoingJoO"
      },
      "execution_count": null,
      "outputs": []
    },
    {
      "cell_type": "markdown",
      "source": [
        "### Total Nword and Nsent by register"
      ],
      "metadata": {
        "id": "lZiKrRtjg-6Y"
      }
    },
    {
      "cell_type": "code",
      "source": [
        "import pandas as pd\n",
        "\n",
        "# Load the data\n",
        "data = pd.read_csv('/content/balanced-toanalyze.csv')\n",
        "\n",
        "# Calculate the total 'Nword' and 'Nsent' by 'register'\n",
        "total_nword = data.groupby('register')['Nword'].sum()\n",
        "total_nsent = data.groupby('register')['Nsent'].sum()\n",
        "\n",
        "# Display the results\n",
        "print(\"Total 'Nword' by Register:\")\n",
        "print(total_nword)\n",
        "print(\"\\nTotal 'Nsent' by Register:\")\n",
        "print(total_nsent)\n"
      ],
      "metadata": {
        "id": "TjUXpI3uhBlN"
      },
      "execution_count": null,
      "outputs": []
    },
    {
      "cell_type": "code",
      "source": [
        "import pandas as pd\n",
        "\n",
        "# Load the data\n",
        "data = pd.read_csv('/content/balanced-toanalyze.csv')\n",
        "\n",
        "# Calculate mean, median, and std of 'Nword' and 'Nsent' by 'register'\n",
        "stats_nword = data.groupby('register')['Nword'].agg(['mean', 'median', 'std'])\n",
        "stats_nsent = data.groupby('register')['Nsent'].agg(['mean', 'median', 'std'])\n",
        "\n",
        "# Display the results\n",
        "print(\"Mean, Median, and Std of 'Nword' per Text by Register:\")\n",
        "print(stats_nword)\n",
        "print(\"\\nMean, Median, and Std of 'Nsent' per Text by Register:\")\n",
        "print(stats_nsent)\n"
      ],
      "metadata": {
        "id": "a9Wo13ui1wQS"
      },
      "execution_count": null,
      "outputs": []
    },
    {
      "cell_type": "code",
      "source": [
        "import pandas as pd\n",
        "import matplotlib.pyplot as plt\n",
        "import seaborn as sns\n",
        "\n",
        "# Load the data\n",
        "data = pd.read_csv('/content/balanced-toanalyze.csv')\n",
        "\n",
        "# Calculate the total 'Nword' and 'Nsent' by 'register'\n",
        "total_nword = data.groupby('register')['Nword'].sum().reset_index()\n",
        "total_nsent = data.groupby('register')['Nsent'].sum().reset_index()\n",
        "\n",
        "# Set up the matplotlib figure with two plots side by side\n",
        "plt.figure(figsize=(12, 6))  # Wide format suitable for academic presentations\n",
        "\n",
        "# Set a color palette that is subtle and suitable for academic publications\n",
        "colors = sns.color_palette(\"pastel\")\n",
        "\n",
        "# Plot 1: Total Nword by Register\n",
        "plt.subplot(1, 2, 1)\n",
        "sns.barplot(x='register', y='Nword', data=total_nword, palette=colors)\n",
        "plt.title('Total Word Count by Register')\n",
        "plt.xlabel('Register')\n",
        "plt.ylabel('Total Word Count')\n",
        "\n",
        "# Plot 2: Total Nsent by Register\n",
        "plt.subplot(1, 2, 2)\n",
        "sns.barplot(x='register', y='Nsent', data=total_nsent, palette=colors)\n",
        "plt.title('Total Sentence Count by Register')\n",
        "plt.xlabel('Register')\n",
        "plt.ylabel('Total Sentence Count')\n",
        "\n",
        "# Enhance the plot aesthetics for publication\n",
        "plt.tight_layout(pad=2.0)\n",
        "plt.show()\n"
      ],
      "metadata": {
        "id": "qFncZHR4hNTX"
      },
      "execution_count": null,
      "outputs": []
    },
    {
      "cell_type": "code",
      "source": [
        "import pandas as pd\n",
        "import matplotlib.pyplot as plt\n",
        "import seaborn as sns\n",
        "import matplotlib.ticker as mtick\n",
        "\n",
        "# Load the data\n",
        "data = pd.read_csv('/content/balanced-toanalyze.csv')\n",
        "\n",
        "# Calculate the total 'Nword' and 'Nsent' by 'register'\n",
        "total_nword = data.groupby('register')['Nword'].sum().reset_index()\n",
        "total_nsent = data.groupby('register')['Nsent'].sum().reset_index()\n",
        "\n",
        "# Convert counts for Nword to millions and for Nsent to thousands for the y-axis\n",
        "total_nword['Nword'] /= 1e6\n",
        "total_nsent['Nsent'] /= 1e3\n",
        "\n",
        "# Set up the matplotlib figure with two plots side by side\n",
        "plt.figure(figsize=(12, 6))  # Wide format suitable for academic presentations\n",
        "\n",
        "# Define colors individually since palette with hue is deprecated\n",
        "color_spoken = \"#000000\"  # Dark color for 'Spoken'\n",
        "color_written = \"white\"  # White color for 'Written'\n",
        "\n",
        "# Plot 1: Total Nword by Register\n",
        "plt.subplot(1, 2, 1)\n",
        "sns.barplot(x='register', y='Nword', data=total_nword,\n",
        "            palette={'Spoken': color_spoken, 'Written': color_written}, edgecolor=\".2\")\n",
        "plt.title('(a) Total Word Count by Register')\n",
        "plt.xlabel('Register')\n",
        "plt.ylabel('Total Word Count (Millions)')\n",
        "plt.gca().yaxis.set_major_formatter(mtick.FormatStrFormatter('%.1f'))\n",
        "\n",
        "# Plot 2: Total Nsent by Register\n",
        "plt.subplot(1, 2, 2)\n",
        "sns.barplot(x='register', y='Nsent', data=total_nsent,\n",
        "            palette={'Spoken': color_spoken, 'Written': color_written}, edgecolor=\".2\")\n",
        "plt.title('(b) Total Sentence Count by Register')\n",
        "plt.xlabel('Register')\n",
        "plt.ylabel('Total Sentence Count (Thousands)')\n",
        "plt.gca().yaxis.set_major_formatter(mtick.FormatStrFormatter('%.0f K'))\n",
        "\n",
        "# Adding totals inside each bar for both plots\n",
        "for i, bar in enumerate([plt.subplot(1, 2, 1), plt.subplot(1, 2, 2)]):\n",
        "    for p in bar.patches:\n",
        "        bar.annotate(format(p.get_height(), '.1f' if i == 0 else '.0f'),\n",
        "                     (p.get_x() + p.get_width() / 2., p.get_height()),\n",
        "                     ha='center', va='center', xytext=(0, 9), textcoords='offset points')\n",
        "\n",
        "plt.tight_layout(pad=2.0)\n",
        "plt.show()\n"
      ],
      "metadata": {
        "id": "ZvqJ3fdoieQb"
      },
      "execution_count": null,
      "outputs": []
    },
    {
      "cell_type": "markdown",
      "source": [
        "## data count"
      ],
      "metadata": {
        "id": "2HNO26LRl7kL"
      }
    },
    {
      "cell_type": "code",
      "source": [
        "import pandas as pd\n",
        "\n",
        "# Load the data\n",
        "data = pd.read_csv('/content/balanced-toanalyze.csv')\n",
        "\n",
        "# Calculate the counts of 'Spoken' and 'Written' texts\n",
        "register_counts = data['register'].value_counts()\n",
        "\n",
        "# Print the counts\n",
        "print(\"Counts of Spoken and Written texts in the dataset:\")\n",
        "print(register_counts)\n"
      ],
      "metadata": {
        "id": "fjtARpEvl9Ag"
      },
      "execution_count": null,
      "outputs": []
    },
    {
      "cell_type": "code",
      "source": [
        "# year count\n",
        "\n",
        "import pandas as pd\n",
        "\n",
        "# Load the CSV file\n",
        "df = pd.read_csv('/content/wresult02.csv')\n",
        "\n",
        "# Ensure the 'year' column is of string type\n",
        "df['year'] = df['year'].astype(str)\n",
        "\n",
        "# Get the counts of each year\n",
        "year_counts = df['year'].value_counts()\n",
        "\n",
        "# Display the counts\n",
        "print(year_counts)\n"
      ],
      "metadata": {
        "id": "feoGcYnZl7G1"
      },
      "execution_count": null,
      "outputs": []
    }
  ]
}
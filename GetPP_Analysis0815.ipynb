{
  "nbformat": 4,
  "nbformat_minor": 0,
  "metadata": {
    "colab": {
      "private_outputs": true,
      "provenance": [],
      "authorship_tag": "ABX9TyPW1+Tnpc8qlfOZP41xDZus",
      "include_colab_link": true
    },
    "kernelspec": {
      "name": "python3",
      "display_name": "Python 3"
    },
    "language_info": {
      "name": "python"
    }
  },
  "cells": [
    {
      "cell_type": "markdown",
      "metadata": {
        "id": "view-in-github",
        "colab_type": "text"
      },
      "source": [
        "<a href=\"https://colab.research.google.com/github/MK316/Getpp24/blob/main/GetPP_Analysis0815.ipynb\" target=\"_parent\"><img src=\"https://colab.research.google.com/assets/colab-badge.svg\" alt=\"Open In Colab\"/></a>"
      ]
    },
    {
      "cell_type": "markdown",
      "source": [
        "# Get PP analysis (0814)\n",
        "\n",
        "+ [data](https://raw.githubusercontent.com/MK316/Getpp24/main/data/resultall-light.csv): this is the final result file, reduced in size for process. No text data is included."
      ],
      "metadata": {
        "id": "qUus6GWWZwJi"
      }
    },
    {
      "cell_type": "code",
      "execution_count": null,
      "metadata": {
        "id": "a3QKkWaxZDhy"
      },
      "outputs": [],
      "source": [
        "url = \"https://raw.githubusercontent.com/MK316/Getpp24/main/data/resultall-light.csv\""
      ]
    },
    {
      "cell_type": "markdown",
      "source": [
        "## Step 1: Install Required Libraries"
      ],
      "metadata": {
        "id": "Bj3UpTxlcyrS"
      }
    },
    {
      "cell_type": "code",
      "source": [
        "!pip install openpyxl"
      ],
      "metadata": {
        "id": "ybAEX33mbl2s"
      },
      "execution_count": null,
      "outputs": []
    },
    {
      "cell_type": "markdown",
      "source": [
        "## Step 2: Import Libraries and Read Data\n",
        "Now, we can read the data from the URL and proceed with the calculations."
      ],
      "metadata": {
        "id": "hdX6SCTEc2Cb"
      }
    },
    {
      "cell_type": "code",
      "source": [
        "import pandas as pd\n",
        "\n",
        "# Step 1: Read the dataframe from the provided URL\n",
        "df = pd.read_csv(url)\n",
        "\n",
        "# Step 2: Display the column names\n",
        "print(\"Column Names in the DataFrame:\")\n",
        "print(df.columns)\n",
        "\n",
        "# Step 3: Display descriptive statistics for the DataFrame\n",
        "print(\"\\nDescriptive Statistics for the DataFrame:\")\n",
        "print(df.describe(include='all'))\n"
      ],
      "metadata": {
        "id": "6U71uinodiEb"
      },
      "execution_count": null,
      "outputs": []
    },
    {
      "cell_type": "code",
      "source": [
        "import pandas as pd\n",
        "\n",
        "# Step 1: Read the dataframe from the provided URL\n",
        "df = pd.read_csv(url)\n",
        "\n",
        "# Step 2: Sum the values in 'Nbepp' and 'Ngetpp' columns\n",
        "total_nbepp = df['Nbepp'].sum()\n",
        "total_ngetpp = df['Ngetpp'].sum()\n",
        "total_nsent = df['Nsent'].sum()\n",
        "\n",
        "# Display the results\n",
        "print(f\"Total Nbepp: {total_nbepp}\")\n",
        "print(f\"Total Ngetpp: {total_ngetpp}\")\n",
        "print(f\"Total Nsent: {total_nsent}\")"
      ],
      "metadata": {
        "id": "Gz21MIf_d6ks"
      },
      "execution_count": null,
      "outputs": []
    },
    {
      "cell_type": "markdown",
      "source": [
        "# Pie charts to summarize the passive counts"
      ],
      "metadata": {
        "id": "KP7tqMTec7Pe"
      }
    },
    {
      "cell_type": "code",
      "source": [
        "import matplotlib.pyplot as plt\n",
        "\n",
        "# Data provided\n",
        "total_sentences = 167029\n",
        "be_passive = 17664\n",
        "get_passive = 376\n",
        "passive_total = be_passive + get_passive\n",
        "active = total_sentences - passive_total\n",
        "\n",
        "# Data for pie charts\n",
        "# Left Pie Chart: Active vs Passive\n",
        "labels_left = ['Active Voice', 'Passive Voice']\n",
        "sizes_left = [active, passive_total]\n",
        "\n",
        "# Right Pie Chart: Be-Passive vs Get-Passive\n",
        "labels_right = ['Be-Passive', 'Get-Passive']\n",
        "sizes_right = [be_passive, get_passive]\n",
        "\n",
        "# Step 2: Create Pie Charts with adjusted font sizes and named colors\n",
        "plt.figure(figsize=(12, 6))\n",
        "\n",
        "# Left Pie Chart (Active vs Passive)\n",
        "plt.subplot(1, 2, 1)\n",
        "plt.pie(sizes_left, labels=labels_left, autopct='%1.1f%%', colors=['darkblue', 'orange'], textprops={'fontsize': 14})\n",
        "plt.title('Active vs Passive Voice', fontsize=16)\n",
        "\n",
        "# Right Pie Chart (Be-Passive vs Get-Passive)\n",
        "plt.subplot(1, 2, 2)\n",
        "plt.pie(sizes_right, labels=labels_right, autopct='%1.1f%%', colors=['darkblue', 'orange'], textprops={'fontsize': 14})\n",
        "plt.title('Be-Passive vs Get-Passive Voice', fontsize=16)\n",
        "\n",
        "# Adjust the overall layout and make the pie charts smaller\n",
        "plt.tight_layout(pad=3.0)\n",
        "plt.show()\n"
      ],
      "metadata": {
        "id": "2qaDLS2ShqNV"
      },
      "execution_count": null,
      "outputs": []
    },
    {
      "cell_type": "code",
      "source": [
        "a = 167029\n",
        "print(a*0.892)"
      ],
      "metadata": {
        "id": "iNC9N1tOmDBl"
      },
      "execution_count": null,
      "outputs": []
    },
    {
      "cell_type": "code",
      "source": [
        "376+17664"
      ],
      "metadata": {
        "id": "UIUR1cnXmZAk"
      },
      "execution_count": null,
      "outputs": []
    },
    {
      "cell_type": "code",
      "source": [],
      "metadata": {
        "id": "mQ3vZXCqnUp7"
      },
      "execution_count": null,
      "outputs": []
    },
    {
      "cell_type": "markdown",
      "source": [
        "## Passives by register"
      ],
      "metadata": {
        "id": "q9s8vNI5nR6-"
      }
    },
    {
      "cell_type": "code",
      "source": [
        "url = \"https://raw.githubusercontent.com/MK316/Getpp24/main/data/resultall-light.csv\""
      ],
      "metadata": {
        "id": "I9qO4d0XnYQa"
      },
      "execution_count": null,
      "outputs": []
    },
    {
      "cell_type": "code",
      "source": [
        "import pandas as pd\n",
        "\n",
        "# Step 1: Read the dataframe from the provided URL\n",
        "df = pd.read_csv(url)\n",
        "\n",
        "# Step 2: Display the column names\n",
        "print(\"Column Names in the DataFrame:\")\n",
        "print(df.columns)"
      ],
      "metadata": {
        "id": "-blzgYdLnHkx"
      },
      "execution_count": null,
      "outputs": []
    },
    {
      "cell_type": "code",
      "source": [
        "import pandas as pd\n",
        "\n",
        "# Assuming 'df' is your DataFrame that has been loaded already\n",
        "\n",
        "# Group by 'register' and sum 'Nbepp' and 'Ngetpp' for each register\n",
        "summary_by_register = df.groupby('register')[['Nbepp', 'Ngetpp']].sum()\n",
        "\n",
        "# Display the result\n",
        "print(summary_by_register)\n"
      ],
      "metadata": {
        "id": "IPqOyReannXs"
      },
      "execution_count": null,
      "outputs": []
    },
    {
      "cell_type": "code",
      "source": [
        "10913/11023"
      ],
      "metadata": {
        "id": "vxwpE0HUnp9J"
      },
      "execution_count": null,
      "outputs": []
    },
    {
      "cell_type": "code",
      "source": [
        "266/7017"
      ],
      "metadata": {
        "id": "Ob6ycKATt1x7"
      },
      "execution_count": null,
      "outputs": []
    },
    {
      "cell_type": "markdown",
      "source": [
        "# Pie chart to report"
      ],
      "metadata": {
        "id": "eHKs35bvi7VD"
      }
    },
    {
      "cell_type": "code",
      "source": [
        "import matplotlib.pyplot as plt\n",
        "\n",
        "# Data provided\n",
        "total_sentences = 167029\n",
        "be_passive = 17664\n",
        "get_passive = 376\n",
        "passive_total = be_passive + get_passive\n",
        "active = total_sentences - passive_total\n",
        "\n",
        "# Data for pie charts\n",
        "# Left Pie Chart: Active vs Passive\n",
        "labels_left = ['Active Voice', 'Passive Voice']\n",
        "sizes_left = [active, passive_total]\n",
        "\n",
        "# Right Pie Chart: Be-Passive vs Get-Passive\n",
        "labels_right = ['Be-Passive', 'Get-Passive']\n",
        "sizes_right = [be_passive, get_passive]\n",
        "\n",
        "# Step 2: Create Pie Charts with 'darkblue' and 'orange' colors\n",
        "plt.figure(figsize=(12, 6))\n",
        "\n",
        "# Function to determine text color based on background\n",
        "def get_text_color(background_color):\n",
        "    # Explicitly check if the color is darkblue\n",
        "    if background_color == 'darkblue' or background_color == (0.0, 0.0, 0.5450980392156862, 1.0):\n",
        "        return 'white'\n",
        "    else:\n",
        "        return 'black'\n",
        "\n",
        "# Left Pie Chart (Active vs Passive)\n",
        "plt.subplot(1, 2, 1)\n",
        "wedges_left, texts_left, autotexts_left = plt.pie(\n",
        "    sizes_left, labels=labels_left, autopct='%1.1f%%', colors=['darkblue', 'orange'], textprops={'fontsize': 14}\n",
        ")\n",
        "for i, autotext in enumerate(autotexts_left):\n",
        "    autotext.set_color(get_text_color(wedges_left[i].get_facecolor()))\n",
        "\n",
        "plt.title('(a) Active vs Passive Voice', fontsize=16)\n",
        "\n",
        "# Right Pie Chart (Be-Passive vs Get-Passive)\n",
        "plt.subplot(1, 2, 2)\n",
        "wedges_right, texts_right, autotexts_right = plt.pie(\n",
        "    sizes_right, labels=labels_right, autopct='%1.1f%%', colors=['darkblue', 'orange'], textprops={'fontsize': 14}\n",
        ")\n",
        "for i, autotext in enumerate(autotexts_right):\n",
        "    autotext.set_color(get_text_color(wedges_right[i].get_facecolor()))\n",
        "\n",
        "plt.title('(b) Be-Passive vs Get-Passive Voice', fontsize=16)\n",
        "\n",
        "# Save the current figure in high resolution\n",
        "plt.savefig('/content/pie_charts_high_res.png', dpi=300, bbox_inches='tight')\n",
        "\n",
        "# Adjust the overall layout and make the pie charts smaller\n",
        "plt.tight_layout(pad=3.0)\n",
        "plt.show()\n"
      ],
      "metadata": {
        "id": "RwRg7KG3iv52"
      },
      "execution_count": null,
      "outputs": []
    },
    {
      "cell_type": "code",
      "source": [
        "# Save the current figure in high resolution\n",
        "plt.savefig('/content/pie_charts_high_res.png', dpi=300, bbox_inches='tight')\n"
      ],
      "metadata": {
        "id": "R6N116JMjLTh"
      },
      "execution_count": null,
      "outputs": []
    },
    {
      "cell_type": "markdown",
      "source": [
        "# Chi-squared test"
      ],
      "metadata": {
        "id": "i_7f5254vr6-"
      }
    },
    {
      "cell_type": "code",
      "source": [
        "import numpy as np\n",
        "import scipy.stats as stats\n",
        "\n",
        "# Step 1: Create the contingency table based on the provided data\n",
        "# The table should reflect the actual counts of occurrences, not percentages\n",
        "\n",
        "# The contingency table:\n",
        "#            | Be-passive | Get-passive |\n",
        "# --------------------------------------\n",
        "# Written    |    10913   |    110      |\n",
        "# Spoken     |    6751    |    266      |\n",
        "\n",
        "contingency_table = np.array([[10913, 110], [6751, 266]])\n",
        "\n",
        "# Step 2: Perform the Chi-squared test\n",
        "chi2, p, dof, expected = stats.chi2_contingency(contingency_table)\n",
        "\n",
        "# Step 3: Output the results\n",
        "print(f\"Chi-squared Statistic: {chi2}\")\n",
        "print(f\"p-value: {p}\")\n",
        "print(f\"Degrees of Freedom: {dof}\")\n",
        "print(\"Expected Frequencies:\")\n",
        "print(expected)\n"
      ],
      "metadata": {
        "id": "HfEqQKAdvtoM"
      },
      "execution_count": null,
      "outputs": []
    },
    {
      "cell_type": "markdown",
      "source": [
        "# Sentiment analysis with the passive verbs"
      ],
      "metadata": {
        "id": "SXy1KIaN5vFS"
      }
    },
    {
      "cell_type": "markdown",
      "source": [
        "## Step 1: Modify the Sentiment Analysis Function\n",
        "Instead of analyzing the entire sentence, you can extract the past participle phrase and then analyze its sentiment."
      ],
      "metadata": {
        "id": "W0qjffYU5ziN"
      }
    },
    {
      "cell_type": "code",
      "source": [
        "import re\n",
        "from textblob import TextBlob\n",
        "\n",
        "# Function to extract the past participle phrase (verb + past participle)\n",
        "def extract_past_participle(sentences, passive_type):\n",
        "    phrases = []\n",
        "    for sentence in sentences:\n",
        "        if passive_type == 'be':\n",
        "            match = re.search(r'\\b(?:is|are|was|were|am|be|been|being|\\'s)\\s+(\\w+ed|\\w+en)\\b', sentence, re.IGNORECASE)\n",
        "        elif passive_type == 'get':\n",
        "            match = re.search(r'\\bget\\s+(\\w+ed|\\w+en)\\b', sentence, re.IGNORECASE)\n",
        "\n",
        "        if match:\n",
        "            phrases.append(match.group(0))  # Extract the matched verb phrase\n",
        "    return phrases\n",
        "\n",
        "# Function to analyze sentiment of the extracted past participle phrases\n",
        "def analyze_sentiment(phrases):\n",
        "    polarity = []\n",
        "    for phrase in phrases:\n",
        "        sentiment = TextBlob(phrase).sentiment.polarity\n",
        "        polarity.append(sentiment)\n",
        "    return polarity\n"
      ],
      "metadata": {
        "id": "ESQx3hs352uC"
      },
      "execution_count": null,
      "outputs": []
    },
    {
      "cell_type": "markdown",
      "source": [
        "## Step 2: Apply the Function to Extract Past Participles and Analyze Sentiment\n",
        "Apply the functions to the 'Bepp' and 'Getpp' columns to focus on the past participle phrases."
      ],
      "metadata": {
        "id": "n6ACH3I-54ni"
      }
    },
    {
      "cell_type": "code",
      "source": [
        "# Extract past participle phrases from 'Bepp' and 'Getpp'\n",
        "df['Bepp_phrases'] = df['Bepp'].apply(lambda x: extract_past_participle(x, passive_type='be'))\n",
        "df['Getpp_phrases'] = df['Getpp'].apply(lambda x: extract_past_participle(x, passive_type='get'))\n",
        "\n",
        "# Analyze sentiment of the extracted phrases\n",
        "df['Bepp_sentiment'] = df['Bepp_phrases'].apply(lambda x: analyze_sentiment(x))\n",
        "df['Getpp_sentiment'] = df['Getpp_phrases'].apply(lambda x: analyze_sentiment(x))\n"
      ],
      "metadata": {
        "id": "-6ylekuF5651"
      },
      "execution_count": null,
      "outputs": []
    },
    {
      "cell_type": "markdown",
      "source": [
        "## Step 3: Aggregate Sentiment by Register\n",
        "Aggregate the sentiment scores by 'register' for the past participle phrases."
      ],
      "metadata": {
        "id": "4UQedbWi58IV"
      }
    },
    {
      "cell_type": "code",
      "source": [
        "# Flatten the list of sentiments and calculate the mean sentiment for each register\n",
        "df_exploded_bepp = df.explode('Bepp_sentiment')\n",
        "df_exploded_getpp = df.explode('Getpp_sentiment')\n",
        "\n",
        "# Calculate mean sentiment by register\n",
        "bepp_sentiment_by_register = df_exploded_bepp.groupby('register')['Bepp_sentiment'].mean()\n",
        "getpp_sentiment_by_register = df_exploded_getpp.groupby('register')['Getpp_sentiment'].mean()\n",
        "\n",
        "# Display the results\n",
        "print(\"Mean Sentiment for Bepp Past Participles by Register:\")\n",
        "print(bepp_sentiment_by_register)\n",
        "print(\"\\nMean Sentiment for Getpp Past Participles by Register:\")\n",
        "print(getpp_sentiment_by_register)\n"
      ],
      "metadata": {
        "id": "QPj-lfHA5-l_"
      },
      "execution_count": null,
      "outputs": []
    },
    {
      "cell_type": "markdown",
      "source": [],
      "metadata": {
        "id": "cD_JtE9D5_5y"
      }
    }
  ]
}
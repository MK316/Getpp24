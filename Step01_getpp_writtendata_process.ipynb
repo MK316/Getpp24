{
  "nbformat": 4,
  "nbformat_minor": 0,
  "metadata": {
    "colab": {
      "private_outputs": true,
      "provenance": [],
      "authorship_tag": "ABX9TyNLzqg9W7So+YO5+VAMPs5D",
      "include_colab_link": true
    },
    "kernelspec": {
      "name": "python3",
      "display_name": "Python 3"
    },
    "language_info": {
      "name": "python"
    }
  },
  "cells": [
    {
      "cell_type": "markdown",
      "metadata": {
        "id": "view-in-github",
        "colab_type": "text"
      },
      "source": [
        "<a href=\"https://colab.research.google.com/github/MK316/Getpp24/blob/main/Step01_getpp_writtendata_process.ipynb\" target=\"_parent\"><img src=\"https://colab.research.google.com/assets/colab-badge.svg\" alt=\"Open In Colab\"/></a>"
      ]
    },
    {
      "cell_type": "markdown",
      "source": [
        "# Written text processing (0811)\n",
        "\n",
        "The output is saved as 'getpp-written.xlsx' with a log file\n",
        "\n",
        "+ Input: getpp-written.txt [link](https://github.com/MK316/Getpp24/blob/main/data/getpp-written.txt)"
      ],
      "metadata": {
        "id": "xyOXzFMo2e2_"
      }
    },
    {
      "cell_type": "code",
      "source": [
        "import pandas as pd\n",
        "import re\n",
        "\n",
        "def clean_text(text):\n",
        "    # Remove the initial ID from the text\n",
        "    text = re.sub(r'^@@\\d+\\s*', '', text)\n",
        "\n",
        "    # Replace corrupted encoding sequences\n",
        "    text = re.sub(r'\\*\\*\\d+;\\d+;[^\\s]+', '(brokenencoding)', text)\n",
        "\n",
        "    # Remove content within <h> tags until the first <p> tag\n",
        "    text = re.sub(r'<h>.*?<p>', '<p>', text, flags=re.DOTALL)\n",
        "\n",
        "    # Remove all <p> tags, but keep the content\n",
        "    text = re.sub(r'<\\/?p>', '', text)\n",
        "\n",
        "    # Remove sequences of '@' characters possibly with spaces\n",
        "    text = re.sub(r'(@\\s+)+@', ' ', text)  # Replaces sequences of '@' with a single space\n",
        "    text = re.sub(r'@+', ' ', text)  # Replaces remaining '@' characters\n",
        "\n",
        "    # Remove space before commas, periods, or any common punctuation\n",
        "    text = re.sub(r'\\s+(?=[,.!?;:])', '', text)\n",
        "\n",
        "    # Correctly handle contractions\n",
        "    contractions = {\n",
        "        r\"(\\b[a-zA-Z]+) 's\\b\": r\"\\1's\",\n",
        "        r\"(\\b[a-zA-Z]+) 'nt\\b\": r\"\\1n't\",\n",
        "        r\"(\\b[a-zA-Z]+) 'm\\b\": r\"\\1'm\",\n",
        "        r\"(\\b[a-zA-Z]+) 're\\b\": r\"\\1're\",\n",
        "        r\"(\\b[a-zA-Z]+) 've\\b\": r\"\\1've\",\n",
        "        r\"(\\b[a-zA-Z]+) 'd\\b\": r\"\\1'd\",\n",
        "        r\"(\\b[a-zA-Z]+) 'll\\b\": r\"\\1'll\"\n",
        "    }\n",
        "    for pattern, replacement in contractions.items():\n",
        "        text = re.sub(pattern, replacement, text)\n",
        "\n",
        "    # Remove spaces inside single and double quotes\n",
        "    text = re.sub(r\"' (\\S.*?\\S) '\", r\"'\\1'\", text)\n",
        "    text = re.sub(r'\" (\\S.*?\\S) \"', r'\"\\1\"', text)\n",
        "\n",
        "    # Ensure multiple spaces are reduced to a single space\n",
        "    text = re.sub(r'\\s{2,}', ' ', text)\n",
        "\n",
        "    return text.strip()\n",
        "\n",
        "def process_file(input_path, output_path):\n",
        "    data = []  # To store the results\n",
        "    # Open the file and read line by line\n",
        "    with open(input_path, 'r', encoding='utf-8') as file:\n",
        "        for line in file:\n",
        "            # Extract ID using regex\n",
        "            id_match = re.search(r'@@(\\d+)', line)\n",
        "            if id_match:\n",
        "                id = id_match.group(1)  # Capture the numeric part of the ID\n",
        "\n",
        "                # Apply text cleaning to the line\n",
        "                cleaned_text = clean_text(line.strip())\n",
        "\n",
        "                # Append the cleaned text and ID to the data list\n",
        "                data.append({'ID': id, 'Text': cleaned_text})\n",
        "\n",
        "    # Convert list of dictionaries to DataFrame\n",
        "    df = pd.DataFrame(data)\n",
        "\n",
        "    # Save the DataFrame to a CSV file\n",
        "    df.to_csv(output_path, index=False)\n",
        "    print(f\"Output saved to {output_path}\")\n",
        "\n",
        "# Specify the paths\n",
        "input_path = 'getpp-written.txt'\n",
        "output_path = 'getpp-written.csv'\n",
        "\n",
        "# Process the file\n",
        "process_file(input_path, output_path)\n"
      ],
      "metadata": {
        "id": "3HpUHMUQ5zw8"
      },
      "execution_count": null,
      "outputs": []
    }
  ]
}